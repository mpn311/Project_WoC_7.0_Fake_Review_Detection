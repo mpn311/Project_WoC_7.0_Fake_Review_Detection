{
  "cells": [
    {
      "cell_type": "code",
      "execution_count": 56,
      "metadata": {
        "id": "xpLXUSLrVm6f"
      },
      "outputs": [],
      "source": [
        "# Import necessary libraries\n",
        "from sklearn.model_selection import train_test_split\n",
        "from sklearn.ensemble import RandomForestClassifier\n",
        "from sklearn.svm import SVC\n",
        "from sklearn.linear_model import LogisticRegression\n",
        "from sklearn.metrics import accuracy_score, precision_score, recall_score, f1_score\n",
        "from sklearn.pipeline import Pipeline\n",
        "from sklearn.preprocessing import StandardScaler\n",
        "from sklearn.model_selection import RandomizedSearchCV\n",
        "import joblib\n",
        "import pandas as pd"
      ]
    },
    {
      "cell_type": "markdown",
      "metadata": {
        "id": "rzlNsX5dchgU"
      },
      "source": [
        "### **Load the Dataset**"
      ]
    },
    {
      "cell_type": "code",
      "execution_count": 47,
      "metadata": {
        "id": "S2eZe_QsWC6H"
      },
      "outputs": [],
      "source": [
        "df = pd.read_csv('preprocessed datase.csv')       "
      ]
    },
    {
      "cell_type": "code",
      "execution_count": 48,
      "metadata": {
        "colab": {
          "base_uri": "https://localhost:8080/",
          "height": 293
        },
        "id": "gAixtoGMXQKm",
        "outputId": "9ba96645-5a5f-4643-de4a-22531058b02a"
      },
      "outputs": [
        {
          "data": {
            "text/html": [
              "<div>\n",
              "<style scoped>\n",
              "    .dataframe tbody tr th:only-of-type {\n",
              "        vertical-align: middle;\n",
              "    }\n",
              "\n",
              "    .dataframe tbody tr th {\n",
              "        vertical-align: top;\n",
              "    }\n",
              "\n",
              "    .dataframe thead th {\n",
              "        text-align: right;\n",
              "    }\n",
              "</style>\n",
              "<table border=\"1\" class=\"dataframe\">\n",
              "  <thead>\n",
              "    <tr style=\"text-align: right;\">\n",
              "      <th></th>\n",
              "      <th>rating</th>\n",
              "      <th>label</th>\n",
              "      <th>text_</th>\n",
              "      <th>review_length</th>\n",
              "      <th>cleaned_text</th>\n",
              "      <th>x</th>\n",
              "    </tr>\n",
              "  </thead>\n",
              "  <tbody>\n",
              "    <tr>\n",
              "      <th>0</th>\n",
              "      <td>5</td>\n",
              "      <td>1</td>\n",
              "      <td>Love this!  Well made, sturdy, and very comfor...</td>\n",
              "      <td>75</td>\n",
              "      <td>love well made sturdy comfortable love itvery ...</td>\n",
              "      <td>[0.         0.         0.         0.         0...</td>\n",
              "    </tr>\n",
              "    <tr>\n",
              "      <th>1</th>\n",
              "      <td>5</td>\n",
              "      <td>1</td>\n",
              "      <td>love it, a great upgrade from the original.  I...</td>\n",
              "      <td>80</td>\n",
              "      <td>love great upgrade original mine couple year</td>\n",
              "      <td>[0.         0.         0.         0.         0...</td>\n",
              "    </tr>\n",
              "    <tr>\n",
              "      <th>2</th>\n",
              "      <td>5</td>\n",
              "      <td>1</td>\n",
              "      <td>This pillow saved my back. I love the look and...</td>\n",
              "      <td>67</td>\n",
              "      <td>pillow saved back love look feel pillow</td>\n",
              "      <td>[0.         0.         0.         0.         0...</td>\n",
              "    </tr>\n",
              "    <tr>\n",
              "      <th>3</th>\n",
              "      <td>1</td>\n",
              "      <td>1</td>\n",
              "      <td>Missing information on how to use it, but it i...</td>\n",
              "      <td>81</td>\n",
              "      <td>missing information use great product price</td>\n",
              "      <td>[0.         0.         0.         0.         0...</td>\n",
              "    </tr>\n",
              "    <tr>\n",
              "      <th>4</th>\n",
              "      <td>5</td>\n",
              "      <td>1</td>\n",
              "      <td>Very nice set. Good quality. We have had the s...</td>\n",
              "      <td>85</td>\n",
              "      <td>nice set good quality set two month not</td>\n",
              "      <td>[0.         0.         0.         0.         0...</td>\n",
              "    </tr>\n",
              "  </tbody>\n",
              "</table>\n",
              "</div>"
            ],
            "text/plain": [
              "   rating  label                                              text_  \\\n",
              "0       5      1  Love this!  Well made, sturdy, and very comfor...   \n",
              "1       5      1  love it, a great upgrade from the original.  I...   \n",
              "2       5      1  This pillow saved my back. I love the look and...   \n",
              "3       1      1  Missing information on how to use it, but it i...   \n",
              "4       5      1  Very nice set. Good quality. We have had the s...   \n",
              "\n",
              "   review_length                                       cleaned_text  \\\n",
              "0             75  love well made sturdy comfortable love itvery ...   \n",
              "1             80       love great upgrade original mine couple year   \n",
              "2             67            pillow saved back love look feel pillow   \n",
              "3             81        missing information use great product price   \n",
              "4             85            nice set good quality set two month not   \n",
              "\n",
              "                                                   x  \n",
              "0  [0.         0.         0.         0.         0...  \n",
              "1  [0.         0.         0.         0.         0...  \n",
              "2  [0.         0.         0.         0.         0...  \n",
              "3  [0.         0.         0.         0.         0...  \n",
              "4  [0.         0.         0.         0.         0...  "
            ]
          },
          "execution_count": 48,
          "metadata": {},
          "output_type": "execute_result"
        }
      ],
      "source": [
        "df.head(5)"
      ]
    },
    {
      "cell_type": "code",
      "execution_count": 49,
      "metadata": {},
      "outputs": [],
      "source": [
        "df = df.drop(columns=['cleaned_text', 'text_'])"
      ]
    },
    {
      "cell_type": "code",
      "execution_count": 50,
      "metadata": {},
      "outputs": [
        {
          "data": {
            "text/html": [
              "<div>\n",
              "<style scoped>\n",
              "    .dataframe tbody tr th:only-of-type {\n",
              "        vertical-align: middle;\n",
              "    }\n",
              "\n",
              "    .dataframe tbody tr th {\n",
              "        vertical-align: top;\n",
              "    }\n",
              "\n",
              "    .dataframe thead th {\n",
              "        text-align: right;\n",
              "    }\n",
              "</style>\n",
              "<table border=\"1\" class=\"dataframe\">\n",
              "  <thead>\n",
              "    <tr style=\"text-align: right;\">\n",
              "      <th></th>\n",
              "      <th>rating</th>\n",
              "      <th>label</th>\n",
              "      <th>review_length</th>\n",
              "      <th>x</th>\n",
              "    </tr>\n",
              "  </thead>\n",
              "  <tbody>\n",
              "    <tr>\n",
              "      <th>0</th>\n",
              "      <td>5</td>\n",
              "      <td>1</td>\n",
              "      <td>75</td>\n",
              "      <td>[0.         0.         0.         0.         0...</td>\n",
              "    </tr>\n",
              "    <tr>\n",
              "      <th>1</th>\n",
              "      <td>5</td>\n",
              "      <td>1</td>\n",
              "      <td>80</td>\n",
              "      <td>[0.         0.         0.         0.         0...</td>\n",
              "    </tr>\n",
              "    <tr>\n",
              "      <th>2</th>\n",
              "      <td>5</td>\n",
              "      <td>1</td>\n",
              "      <td>67</td>\n",
              "      <td>[0.         0.         0.         0.         0...</td>\n",
              "    </tr>\n",
              "    <tr>\n",
              "      <th>3</th>\n",
              "      <td>1</td>\n",
              "      <td>1</td>\n",
              "      <td>81</td>\n",
              "      <td>[0.         0.         0.         0.         0...</td>\n",
              "    </tr>\n",
              "    <tr>\n",
              "      <th>4</th>\n",
              "      <td>5</td>\n",
              "      <td>1</td>\n",
              "      <td>85</td>\n",
              "      <td>[0.         0.         0.         0.         0...</td>\n",
              "    </tr>\n",
              "  </tbody>\n",
              "</table>\n",
              "</div>"
            ],
            "text/plain": [
              "   rating  label  review_length  \\\n",
              "0       5      1             75   \n",
              "1       5      1             80   \n",
              "2       5      1             67   \n",
              "3       1      1             81   \n",
              "4       5      1             85   \n",
              "\n",
              "                                                   x  \n",
              "0  [0.         0.         0.         0.         0...  \n",
              "1  [0.         0.         0.         0.         0...  \n",
              "2  [0.         0.         0.         0.         0...  \n",
              "3  [0.         0.         0.         0.         0...  \n",
              "4  [0.         0.         0.         0.         0...  "
            ]
          },
          "execution_count": 50,
          "metadata": {},
          "output_type": "execute_result"
        }
      ],
      "source": [
        "df.head()"
      ]
    },
    {
      "cell_type": "code",
      "execution_count": 51,
      "metadata": {
        "id": "THneJGy9XRSd"
      },
      "outputs": [],
      "source": [
        "X = df['x']\n",
        "y = df['label'] "
      ]
    },
    {
      "cell_type": "code",
      "execution_count": 52,
      "metadata": {},
      "outputs": [],
      "source": [
        "# Split data into training and testing sets\n",
        "X_train, X_test, y_train, y_test = train_test_split(X, y, test_size=0.2, random_state=42)"
      ]
    },
    {
      "cell_type": "markdown",
      "metadata": {},
      "source": [
        "## Model training with pipelines"
      ]
    },
    {
      "cell_type": "code",
      "execution_count": 58,
      "metadata": {},
      
